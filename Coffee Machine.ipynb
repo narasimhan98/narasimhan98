{
 "cells": [
  {
   "cell_type": "code",
   "execution_count": 12,
   "id": "20af930d",
   "metadata": {},
   "outputs": [
    {
     "name": "stdout",
     "output_type": "stream",
     "text": [
      "Enjoy your Espresso:)\n",
      "Americano\n"
     ]
    }
   ],
   "source": [
    "if result == 'Cappacino':\n",
    "    print('Enjoy your Cappacino:)')\n",
    "elif result == 'Latte':\n",
    "    print('Enjoy your Latte:)')\n",
    "elif result == 'Black':\n",
    "    print('Enjoy your Black Coffee:)')\n",
    "elif result == 'Americano':\n",
    "    print('Enjoy your Americano:)')\n",
    "elif result == 'Espresso':\n",
    "    print('Enjoy your Espresso:)')\n",
    "else: print('Invalid Selection, \\nplease select from the given options!')\n",
    "    \n",
    "\n",
    "result = input()"
   ]
  },
  {
   "cell_type": "code",
   "execution_count": null,
   "id": "4df5739e",
   "metadata": {},
   "outputs": [],
   "source": []
  }
 ],
 "metadata": {
  "kernelspec": {
   "display_name": "Python 3 (ipykernel)",
   "language": "python",
   "name": "python3"
  },
  "language_info": {
   "codemirror_mode": {
    "name": "ipython",
    "version": 3
   },
   "file_extension": ".py",
   "mimetype": "text/x-python",
   "name": "python",
   "nbconvert_exporter": "python",
   "pygments_lexer": "ipython3",
   "version": "3.10.9"
  }
 },
 "nbformat": 4,
 "nbformat_minor": 5
}
